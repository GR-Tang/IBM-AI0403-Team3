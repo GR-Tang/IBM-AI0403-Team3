{
 "cells": [
  {
   "cell_type": "markdown",
   "metadata": {
    "colab_type": "text",
    "id": "view-in-github"
   },
   "source": [
    "# <a href=\"https://colab.research.google.com/github/GR-Tang/IBM-AI0403-Team3/blob/main/TelcoChurnV10.ipynb\" target=\"_parent\"><img src=\"https://colab.research.google.com/assets/colab-badge.svg\" alt=\"Open In Colab\"/></a>"
   ]
  },
  {
   "cell_type": "code",
   "execution_count": null,
   "metadata": {
    "colab": {
     "base_uri": "https://localhost:8080/",
     "height": 384
    },
    "id": "XPRSCjXJVKvr",
    "outputId": "ae050a64-5d4a-4efd-a971-cd4048e86003"
   },
   "outputs": [],
   "source": [
    "#importing the libraries needed for fiddling with the dataset\n",
    "import pixiedust\n",
    "import pandas as pd\n",
    "import numpy as np\n",
    "import seaborn as sns\n",
    "import matplotlib.pyplot as plt\n",
    "from matplotlib.pylab import rcParams\n",
    "%matplotlib inline\n",
    "sns.set_theme(style=\"darkgrid\")"
   ]
  },
  {
   "cell_type": "code",
   "execution_count": null,
   "metadata": {},
   "outputs": [],
   "source": [
    "#importing the necessary libraries for later\n",
    "#!pip install imblearn\n",
    "from imblearn.over_sampling import SMOTE\n",
    "import xgboost as xgb\n",
    "from xgboost import plot_tree\n",
    "from xgboost import plot_importance\n",
    "from sklearn.model_selection import train_test_split\n",
    "from sklearn.model_selection import GridSearchCV\n",
    "from sklearn.model_selection import StratifiedKFold\n",
    "from sklearn.model_selection import cross_val_score\n",
    "from sklearn.metrics import mean_squared_error\n",
    "from sklearn.metrics import accuracy_score\n",
    "from sklearn.metrics import confusion_matrix\n",
    "from sklearn.metrics import roc_curve\n",
    "from sklearn.metrics import roc_auc_score\n",
    "from sklearn.metrics import precision_recall_curve\n",
    "from sklearn.metrics import f1_score\n",
    "from sklearn.metrics import auc\n",
    "from scipy.stats import sem\n",
    "import graphviz\n",
    "from sklearn.ensemble import GradientBoostingClassifier \n",
    "from lightgbm import LGBMClassifier\n",
    "import lightgbm as lgbm"
   ]
  },
  {
   "cell_type": "code",
   "execution_count": null,
   "metadata": {
    "colab": {
     "base_uri": "https://localhost:8080/"
    },
    "id": "D1Jll_dlVs3Q",
    "outputId": "4b0c8148-d762-41ef-aafe-947afd9063fb",
    "scrolled": false
   },
   "outputs": [],
   "source": [
    "#getting the dataset and loading it up\n",
    "raw_df=pixiedust.sampleData('https://raw.githubusercontent.com/GR-Tang/IBM-AI0403-Team3/main/telco-data.csv')"
   ]
  },
  {
   "cell_type": "code",
   "execution_count": null,
   "metadata": {},
   "outputs": [],
   "source": [
    "#checking and verifying the dataset\n",
    "raw_df.info()"
   ]
  },
  {
   "cell_type": "code",
   "execution_count": null,
   "metadata": {},
   "outputs": [],
   "source": [
    "#getting the headers to fiddle with the features\n",
    "raw_df.head()"
   ]
  },
  {
   "cell_type": "code",
   "execution_count": null,
   "metadata": {
    "colab": {
     "base_uri": "https://localhost:8080/",
     "height": 17
    },
    "id": "zKGjK3INV22i",
    "outputId": "c77cf34f-e9da-4d09-bac8-9774b73af383",
    "pixiedust": {
     "displayParams": {
      "aggregation": "SUM",
      "charttype": "grouped",
      "clusterby": "Churn",
      "handlerId": "barChart",
      "keyFields": "Contract_Month_to_month",
      "mpld3": "false",
      "rendererId": "matplotlib",
      "timeseries": "false",
      "valueFields": "PaymentMethod_Bank_transfer_automatic,PaymentMethod_Credit_card_automatic,PaymentMethod_Electronic_cheque,PaymentMethod_Mailed_cheque"
     }
    }
   },
   "outputs": [],
   "source": [
    "#can skip, for visualisation\n",
    "display(raw_df)"
   ]
  },
  {
   "cell_type": "code",
   "execution_count": null,
   "metadata": {},
   "outputs": [],
   "source": [
    "#can skip, for visualisation\n",
    "#raw_df.groupby('Churn')[['MonthlyContract', 'OneYearContract', 'TwoYearContract']].sum()\n",
    "#raw_df.groupby('Churn')[['PhoneService', 'MultipleLines', 'DeviceProtection']].sum()\n",
    "#raw_df.groupby('Churn')[['InternetService', 'FiberOptic', 'DSL']].sum()\n",
    "#raw_df.groupby('Churn')[['OnlineSecurity', 'OnlineBackup', 'TechSupport']].sum()\n",
    "#raw_df.groupby('Churn')[['StreamingTV', 'StreamingMovies']].sum()\n",
    "#raw_df.groupby('Churn')[['PayByBankTransfer', 'PayByCC', 'PayByElectronicCheque', 'PayByMailedCheque']].sum()"
   ]
  },
  {
   "cell_type": "code",
   "execution_count": null,
   "metadata": {},
   "outputs": [],
   "source": [
    "#one-hot codes in case needed\n",
    "raw_df['SeniorCitizen']=raw_df['SeniorCitizen'].map({1:'Yes', 0:'No'})\n",
    "raw_df['MultipleLines']=raw_df['MultipleLines'].map({'Yes':'Yes', 'No':'No','No phone service':'No'})\n",
    "raw_df['OnlineSecurity']=raw_df['OnlineSecurity'].map({'Yes':'Yes', 'No':'No','No internet service':'No'})\n",
    "raw_df['OnlineBackup']=raw_df['OnlineBackup'].map({'Yes':'Yes', 'No':'No','No internet service':'No'})\n",
    "raw_df['DeviceProtection']=raw_df['DeviceProtection'].map({'Yes':'Yes', 'No':'No','No internet service':'No'})\n",
    "raw_df['TechSupport']=raw_df['TechSupport'].map({'Yes':'Yes', 'No':'No','No internet service':'No'})\n",
    "raw_df['StreamingTV']=raw_df['StreamingTV'].map({'Yes':'Yes', 'No':'No','No internet service':'No'})\n",
    "raw_df['StreamingMovies']=raw_df['StreamingMovies'].map({'Yes':'Yes', 'No':'No','No internet service':'No'})\n",
    "raw_df['InternetService']=raw_df['InternetService'].map({'DSL':'DSL', 'No':'No','Fiber optic':'Fiber_Optic'})\n",
    "raw_df['Contract']=raw_df['Contract'].map({'Month-to-month':'Month_to_month', 'One year':'One_year','Two year':'Two_year'})\n",
    "raw_df['PaymentMethod']=raw_df['PaymentMethod'].map({'Bank transfer (automatic)':'Bank_transfer_automatic',\n",
    "                                                     'Credit card (automatic)':'Credit_card_automatic',\n",
    "                                                     'Electronic check':'Electronic_cheque','Mailed check':'Mailed_cheque'})\n",
    "\n",
    "raw_df=pd.get_dummies(raw_df, columns=['gender','Partner','SeniorCitizen','Dependents','PhoneService','MultipleLines',\n",
    "                                       'InternetService','OnlineSecurity','OnlineBackup','DeviceProtection','TechSupport',\n",
    "                                       'StreamingTV','StreamingMovies','Contract','PaperlessBilling',\n",
    "                                       'PaymentMethod'], dtype='int64')\n",
    "\n",
    "#keeping Churn as binary class due to it being target feature\n",
    "raw_df['Churn']=raw_df['Churn'].map({'Yes': 1,'No': 0})\n",
    "raw_df['TotalCharges']=raw_df['TotalCharges'].replace({' ':'0'}).astype(float)\n",
    "raw_df.drop(columns=['customerID'], inplace = True)"
   ]
  },
  {
   "cell_type": "code",
   "execution_count": null,
   "metadata": {},
   "outputs": [],
   "source": [
    "#grouping tenure and monthlycharges into bins\n",
    "raw_df['Bintenure']=(raw_df['tenure']/6).apply(np.ceil).astype(\"int64\")\n",
    "raw_df['BinMonthlyCharges']=(raw_df['MonthlyCharges']/10).apply(np.ceil).astype(\"int64\")\n",
    "raw_df['BinTotalCharges']=(raw_df['TotalCharges']/500).apply(np.ceil).astype(\"int64\")"
   ]
  },
  {
   "cell_type": "code",
   "execution_count": null,
   "metadata": {},
   "outputs": [],
   "source": [
    "#shifting the target column to position 0 for ease of reference later\n",
    "churn_df = raw_df['Churn']\n",
    "raw_df.drop(columns=['Churn'], inplace = True)\n",
    "raw_df.insert(0, 'Churn', churn_df)"
   ]
  },
  {
   "cell_type": "code",
   "execution_count": null,
   "metadata": {},
   "outputs": [],
   "source": [
    "#dropping unwanted columns\n",
    "imbaldrop2bin_df= raw_df.drop(columns=['gender_Male', 'gender_Female','MonthlyCharges','TotalCharges','tenure'])\n",
    "imbaldrop7bin_df=imbaldrop2bin_df.drop(columns=['PhoneService_Yes','PhoneService_No','StreamingTV_Yes','StreamingTV_No','StreamingMovies_Yes','StreamingMovies_No','MultipleLines_Yes','MultipleLines_No','BinTotalCharges'])"
   ]
  },
  {
   "cell_type": "code",
   "execution_count": null,
   "metadata": {},
   "outputs": [],
   "source": [
    "imbaldrop2bin_df.head()"
   ]
  },
  {
   "cell_type": "code",
   "execution_count": null,
   "metadata": {},
   "outputs": [],
   "source": [
    "#noticed target data is imbalanced, we can either undersample (randomly reduce negatives to match the number of positives) \n",
    "#or oversample (randomly generate synthetic positives to match the number of negatives)\n",
    "#however, almost all articles points to balancing after splitting into test/train sets. \n",
    "pd.value_counts(raw_df['Churn'])"
   ]
  },
  {
   "cell_type": "code",
   "execution_count": null,
   "metadata": {},
   "outputs": [],
   "source": [
    "#Selecting the CSV file to use\n",
    "raw_df=imbaldrop2bin_df"
   ]
  },
  {
   "cell_type": "code",
   "execution_count": null,
   "metadata": {},
   "outputs": [],
   "source": [
    "#taking 10% of data as test data, the rest to train \n",
    "train_df, test_df = train_test_split(raw_df, test_size=0.1, stratify=raw_df['Churn'], random_state=55)\n",
    "\n",
    "#printing to check size\n",
    "print(\"Size of the training dataset = \", train_df.shape)\n",
    "print(\"Size of the testing dataset = \", test_df.shape)\n",
    "\n",
    "#show sample of the dataset to verify\n",
    "print(\"\\n\\nSample of the training dataset \\n\")\n",
    "train_df.head()"
   ]
  },
  {
   "cell_type": "code",
   "execution_count": null,
   "metadata": {},
   "outputs": [],
   "source": [
    "pd.value_counts(train_df['Churn'])"
   ]
  },
  {
   "cell_type": "code",
   "execution_count": null,
   "metadata": {},
   "outputs": [],
   "source": [
    "#plot and show the current imbalance\n",
    "rcParams['figure.figsize'] = 6,5\n",
    "sns.countplot(x='Churn', data=train_df)\n",
    "plt.title('Imbalanced Churns')\n",
    "plt.show()"
   ]
  },
  {
   "cell_type": "markdown",
   "metadata": {},
   "source": [
    "#undersampling NOTE - Choose the one below or this, do not use both\n",
    "#shuffle the Dataset. Everyday we're shuffling..shuffling... shuffling... (frac=1 means gimme back all the rows)\n",
    "shuffled_df = train_df.sample(frac=1,random_state=555)\n",
    "\n",
    "#pull out all the churn positives\n",
    "churnPos_df = shuffled_df.loc[shuffled_df['Churn'] == 1]\n",
    "\n",
    "#randomly pick 1682 rows from the ChurnNegatives (majority)\n",
    "churnNeg_df = shuffled_df.loc[shuffled_df['Churn'] == 0].sample(n = 1682, random_state = 55)\n",
    "\n",
    "#joining them back again\n",
    "train_df = pd.concat([churnNeg_df, churnPos_df])\n"
   ]
  },
  {
   "cell_type": "code",
   "execution_count": null,
   "metadata": {},
   "outputs": [],
   "source": [
    "#oversampling NOTE - Choose the one above or this, do not use both\n",
    "sm = SMOTE(sampling_strategy=0.6667, random_state=55)\n",
    "\n",
    "oversam_train_X, oversam_train_Y = sm.fit_sample(train_df.drop('Churn', axis=1), train_df['Churn'])\n",
    "train_df = pd.concat([pd.DataFrame(oversam_train_Y), pd.DataFrame(oversam_train_X)], axis=1)"
   ]
  },
  {
   "cell_type": "code",
   "execution_count": null,
   "metadata": {},
   "outputs": [],
   "source": [
    "pd.value_counts(train_df['Churn'])"
   ]
  },
  {
   "cell_type": "code",
   "execution_count": null,
   "metadata": {},
   "outputs": [],
   "source": [
    "#Now plot and show the corrected balance\n",
    "rcParams['figure.figsize'] = 6,5\n",
    "sns.countplot(x='Churn', data=train_df)\n",
    "plt.title('Balanced Churns')\n",
    "plt.show()"
   ]
  },
  {
   "cell_type": "code",
   "execution_count": null,
   "metadata": {},
   "outputs": [],
   "source": [
    "#define target column for both test and train dataset\n",
    "train_X, train_Y = train_df.iloc[:,1:],train_df.iloc[:,0]\n",
    "test_X, test_Y = test_df.iloc[:,1:],test_df.iloc[:,0]"
   ]
  },
  {
   "cell_type": "code",
   "execution_count": null,
   "metadata": {},
   "outputs": [],
   "source": [
    "#selecting the model, parameters used for the first run is to suppress error messages\n",
    "model1 = xgb.XGBClassifier(use_label_encoder=False, verbosity=0)\n",
    "\n",
    "#fitting the model to the training dataset\n",
    "model1.fit(train_X, train_Y)"
   ]
  },
  {
   "cell_type": "code",
   "execution_count": null,
   "metadata": {},
   "outputs": [],
   "source": [
    "def assess_model(model, test_X, test_Y, folds):\n",
    "    #calculating \n",
    "    model_preds = model.predict(test_X)\n",
    "    accuracy = accuracy_score(test_Y, model_preds)\n",
    "    model_probs = model.predict_proba(test_X)\n",
    "    model_probs = model_probs[:, 1]\n",
    "    model_auc = roc_auc_score(test_Y, model_probs)\n",
    "    model_fpr, model_tpr, _ = roc_curve(test_Y, model_probs)\n",
    "    model_precision, model_recall, _ = precision_recall_curve(test_Y, model_probs)\n",
    "    model_f1 = f1_score(test_Y, model_preds)\n",
    "    score = cross_val_score(model, train_X, train_Y, cv=folds, scoring='roc_auc')\n",
    " \n",
    "    print('Model: %s\\n' % (model))\n",
    "    print((folds),'Folds Cross Validation ROC AUC Scores: ', (score))\n",
    "    print('Mean ROC AUC score: {0:.3f} (+/-{1:.3f})'.format(np.mean(score), sem(score)))\n",
    "    print('\\nTest Set score:')\n",
    "    print('Accuracy: %.2f' % (accuracy * 100.0))\n",
    "    print('ROC AUC=%.3f' % (model_auc))\n",
    "    print('F1=%.3f' % (model_f1))\n",
    "\n",
    "    \n",
    "    #plotting confusion matrix\n",
    "    rcParams['figure.figsize'] = 6,5\n",
    "    fig, ax = plt.subplots()\n",
    "    cm = confusion_matrix(test_Y, model_preds)\n",
    "    tp = cm[1,1]\n",
    "    tn = cm[0,0]\n",
    "    fp = cm[0,1]\n",
    "    fn = cm[1,0]\n",
    "    sns.heatmap(cm, annot=True, fmt=\"d\", linewidths=.5, ax = ax)\n",
    "    ax.set_title('Confusion Matrix')\n",
    "    ax.set_xlabel(\"Predicted class\")\n",
    "    ax.set_ylabel(\"Actual class\")\n",
    "    plt.show()\n",
    "    #plot roc/precision/recall\n",
    "    rcParams['figure.figsize'] = 10,8\n",
    "    plt.plot(model_fpr, model_tpr, marker='.', label='ROC')\n",
    "    plt.plot(model_recall, model_precision, marker='.', label='Recall/Precision')\n",
    "    plt.xlabel('Recall\\nFalse Positive Rate')\n",
    "    plt.ylabel('Precision\\nTrue Positive Rate')\n",
    "    plt.legend()\n",
    "    plt.show()\n",
    "\n",
    "    #plot feature importance (since we are only using two models, using try/except)\n",
    "    rcParams['figure.figsize'] = 8,8\n",
    "    feat_importances = pd.Series(model.feature_importances_, index=train_X.columns)\n",
    "    feat_importances.nlargest(38).plot(kind='barh').invert_yaxis()\n",
    " "
   ]
  },
  {
   "cell_type": "markdown",
   "metadata": {},
   "source": [
    "#calculate mean square error, not sure if useful for binary classification, included for fun \n",
    "#MSE = np.sqrt(mean_squared_error(test_Y, xgb1_pred_Y))\n",
    "#print(\"XGBoost1 MSE: %f\" % (MSE))"
   ]
  },
  {
   "cell_type": "code",
   "execution_count": null,
   "metadata": {},
   "outputs": [],
   "source": [
    "#visualising the decision tree for shits and giggles\n",
    "rcParams['figure.figsize'] = 30,40\n",
    "xgb.plot_tree(model1, rankdir='LR')\n",
    "plt.show()"
   ]
  },
  {
   "cell_type": "code",
   "execution_count": null,
   "metadata": {},
   "outputs": [],
   "source": [
    "assess_model(model1,test_X,test_Y,3)"
   ]
  },
  {
   "cell_type": "code",
   "execution_count": null,
   "metadata": {},
   "outputs": [],
   "source": [
    "#this will take very very long (bob marley:\"I've been watching you~~\") to run due to the various combinations\n",
    "#thought of increasing cores used but refrained, for portability\n",
    "\n",
    "model2 = xgb.XGBClassifier(use_label_encoder=False, verbosity=0)\n",
    "\n",
    "param_grid = {'eta':[0.1, 0.2, 0.3, 0.4, 0.5],\n",
    "              'max_depth':[3, 4, 5, 6, 7],\n",
    "              'gamma':[0, 3, 6, 9, 12],\n",
    "              'subsample':[0.1, 0.25, 0.5, 0.75, 1]\n",
    "}\n",
    "\n",
    "kfold = StratifiedKFold(n_splits=3, shuffle=True, random_state=55)\n",
    "grid_search = GridSearchCV(model2, param_grid, scoring='roc_auc', cv=kfold)\n",
    "grid_result = grid_search.fit(train_X, train_Y)\n",
    "\n",
    "# summarize results\n",
    "print(\"Best ROC AUC: %f using %s\" % (grid_result.best_score_, grid_result.best_params_))\n",
    "means = grid_result.cv_results_['mean_test_score']\n",
    "stds = grid_result.cv_results_['std_test_score']\n",
    "params = grid_result.cv_results_['params']\n",
    "for mean, stdev, param in zip(means, stds, params):\n",
    "    print(\"ROC AUC %f (%f) with: %r\" % (mean, stdev, param))"
   ]
  },
  {
   "cell_type": "code",
   "execution_count": null,
   "metadata": {},
   "outputs": [],
   "source": [
    "#Refit the model with new optimised parameters\n",
    "model3 = xgb.XGBClassifier(use_label_encoder=False, verbosity=0, **grid_result.best_params_)\n",
    "\n",
    "#fitting the model to the training dataset\n",
    "model3.fit(train_X, train_Y)\n",
    "\n",
    "#assess the model with optimised parameters\n",
    "assess_model(model3,test_X,test_Y,3)"
   ]
  },
  {
   "cell_type": "code",
   "execution_count": null,
   "metadata": {},
   "outputs": [],
   "source": [
    "#selecting the alternative model and fitting it with train data, using default params \n",
    "model4 = LGBMClassifier()\n",
    "model4.fit(train_X, train_Y)"
   ]
  },
  {
   "cell_type": "code",
   "execution_count": null,
   "metadata": {},
   "outputs": [],
   "source": [
    "#assess the default LGBM model to get a baseline scoring\n",
    "assess_model(model4,test_X,test_Y,3)"
   ]
  },
  {
   "cell_type": "code",
   "execution_count": null,
   "metadata": {},
   "outputs": [],
   "source": [
    "#perform gridsearchcv LGBM model using a few parameters, \n",
    "#this process takes very long since it will run all the possible different combinations of the parameters\n",
    "#params which default is better: 'boosting_type':['gbdt', 'rf'],'learning_rate':[0.025, 0.050, 0.075, 0.1, 0.2]\n",
    "\n",
    "model5 = LGBMClassifier(verbosity=-1)\n",
    "\n",
    "param_grid = {'learning_rate':[0.025, 0.05, 0.1, 0.2, 0.3],\n",
    "              'extra_trees':[True, False],\n",
    "              'max_bin':[10, 55, 155, 255, 280],\n",
    "              'max_delta_step':[-1, 10, 20, 30, 50]\n",
    "}\n",
    "\n",
    "kfold = StratifiedKFold(n_splits=3, shuffle=True, random_state=55)\n",
    "grid_search = GridSearchCV(model5, param_grid, scoring='roc_auc', cv=kfold)\n",
    "grid_result = grid_search.fit(train_X, train_Y)\n",
    "\n",
    "# summarize results\n",
    "print(\"Best ROC AUC: %f using %s\" % (grid_result.best_score_, grid_result.best_params_))\n",
    "means = grid_result.cv_results_['mean_test_score']\n",
    "stds = grid_result.cv_results_['std_test_score']\n",
    "params = grid_result.cv_results_['params']\n",
    "for mean, stdev, param in zip(means, stds, params):\n",
    "    print(\"ROC AUC %f (%f) with: %r\" % (mean, stdev, param))"
   ]
  },
  {
   "cell_type": "code",
   "execution_count": null,
   "metadata": {},
   "outputs": [],
   "source": [
    "#todo - fit lgbm model with optimised parameters \n",
    "model6 = LGBMClassifier(verbosity=-1, **grid_result.best_params_)\n",
    "model6.fit(train_X, train_Y)"
   ]
  },
  {
   "cell_type": "code",
   "execution_count": null,
   "metadata": {},
   "outputs": [],
   "source": [
    "#todo - assess updated LGBM model with optimised parameters\n",
    "assess_model(model6,test_X,test_Y,3)"
   ]
  },
  {
   "cell_type": "code",
   "execution_count": null,
   "metadata": {},
   "outputs": [],
   "source": [
    "model7 = GradientBoostingClassifier()\n",
    "model7.fit(train_X, train_Y)"
   ]
  },
  {
   "cell_type": "code",
   "execution_count": null,
   "metadata": {},
   "outputs": [],
   "source": [
    "#todo - assess updated LGBM model with optimised parameters\n",
    "assess_model(model7,test_X,test_Y,3)"
   ]
  },
  {
   "cell_type": "code",
   "execution_count": null,
   "metadata": {},
   "outputs": [],
   "source": [
    "#perform gridsearch for GBclassifier model using a few parameters, \n",
    "#this process takes very long since it will run all the possible different combinations of the parameters\n",
    "\n",
    "model8 = GradientBoostingClassifier()\n",
    "\n",
    "param_grid = {'learning_rate':[0.01, 0.05, 0.1, 0.2, 0.3],\n",
    "              'n_estimators':[80, 90, 100, 110, 120],\n",
    "              'subsample':[0.01, 0.25, 0.5, 0.75, 1.0],\n",
    "              'max_depth':[1, 2, 3, 5, 7]\n",
    "}\n",
    "\n",
    "kfold = StratifiedKFold(n_splits=3, shuffle=True, random_state=55)\n",
    "grid_search = GridSearchCV(model8, param_grid, scoring='roc_auc', cv=kfold)\n",
    "grid_result = grid_search.fit(train_X, train_Y)\n",
    "\n",
    "# summarize results\n",
    "print(\"Best ROC AUC: %f using %s\" % (grid_result.best_score_, grid_result.best_params_))\n",
    "means = grid_result.cv_results_['mean_test_score']\n",
    "stds = grid_result.cv_results_['std_test_score']\n",
    "params = grid_result.cv_results_['params']\n",
    "for mean, stdev, param in zip(means, stds, params):\n",
    "    print(\"ROC AUC %f (%f) with: %r\" % (mean, stdev, param))"
   ]
  },
  {
   "cell_type": "code",
   "execution_count": null,
   "metadata": {},
   "outputs": [],
   "source": [
    "model9 = GradientBoostingClassifier(**grid_result.best_params_)\n",
    "model9.fit(train_X, train_Y)\n",
    "assess_model(model9,test_X,test_Y,3)"
   ]
  },
  {
   "cell_type": "markdown",
   "metadata": {},
   "source": [
    "model10=xgb.XGBClassifier(use_label_encoder=False, verbosity=0, eta=0.1, max_depth=4, gamma=3, subsample=0.75)\n",
    "\n",
    "model10.fit(train_X, train_Y)"
   ]
  },
  {
   "cell_type": "markdown",
   "metadata": {},
   "source": [
    "%%writefile telco_churn_class.py\n",
    "from bentoml import BentoService, api, env, artifacts\n",
    "from bentoml.adapters import DataframeInput\n",
    "from bentoml.service.artifacts.common import PickleArtifact\n",
    "\n",
    "@artifacts([PickleArtifact('model')])\n",
    "@env(conda_dependencies=[\"scikit-learn\"])\n",
    "\n",
    "\n",
    "class TelcoChurnClassifier(BentoService):\n",
    "\n",
    "    @api(input=DataframeInput(), batch=True)\n",
    "    def predict(self, df):\n",
    "        return self.artifacts.model.predict(df)\n"
   ]
  },
  {
   "cell_type": "markdown",
   "metadata": {},
   "source": [
    "from telco_churn_class import TelcoChurnClassifier\n",
    "\n",
    "# Create a iris classifier service instance\n",
    "telco_churn_class_service = TelcoChurnClassifier()\n",
    "\n",
    "# Pack the newly trained model artifact\n",
    "telco_churn_class_service.pack('model', model10)\n",
    "\n",
    "# Save the prediction service to disk for model serving\n",
    "saved_path = telco_churn_class_service.save()"
   ]
  },
  {
   "cell_type": "markdown",
   "metadata": {},
   "source": [
    "$ az login"
   ]
  },
  {
   "cell_type": "markdown",
   "metadata": {},
   "source": [
    "$ az group create --name telco-classi --location southeastasia\n",
    "\n",
    "#output\n",
    "{\n",
    "  \"id\": \"/subscriptions/e4737090-78c3-4a83-b843-f2c83847cf52/resourceGroups/telco-classi\",\n",
    "  \"location\": \"southeastasia\",\n",
    "  \"managedBy\": null,\n",
    "  \"name\": \"telco-classi\",\n",
    "  \"properties\": {\n",
    "    \"provisioningState\": \"Succeeded\"\n",
    "  },\n",
    "  \"tags\": null,\n",
    "  \"type\": \"Microsoft.Resources/resourceGroups\"\n",
    "}\n"
   ]
  },
  {
   "cell_type": "markdown",
   "metadata": {},
   "source": [
    "$ az acr create --resource-group telco-classi --name telcobentoclassifier --sku Basic --admin-enabled true\n",
    "\n",
    "#output\n",
    "{\n",
    "  \"adminUserEnabled\": true,\n",
    "  \"creationDate\": \"2021-02-20T07:12:31.268475+00:00\",\n",
    "  \"dataEndpointEnabled\": false,\n",
    "  \"dataEndpointHostNames\": [],\n",
    "  \"encryption\": {\n",
    "    \"keyVaultProperties\": null,\n",
    "    \"status\": \"disabled\"\n",
    "  },\n",
    "  \"id\": \"/subscriptions/e4737090-78c3-4a83-b843-f2c83847cf52/resourceGroups/telco-classi/providers/Microsoft.ContainerRegistry/registries/telcobentoclassifier\",\n",
    "  \"identity\": null,\n",
    "  \"location\": \"southeastasia\",\n",
    "  \"loginServer\": \"telcobentoclassifier.azurecr.io\",\n",
    "  \"name\": \"telcobentoclassifier\",\n",
    "  \"networkRuleBypassOptions\": \"AzureServices\",\n",
    "  \"networkRuleSet\": null,\n",
    "  \"policies\": {\n",
    "    \"quarantinePolicy\": {\n",
    "      \"status\": \"disabled\"\n",
    "    },\n",
    "    \"retentionPolicy\": {\n",
    "      \"days\": 7,\n",
    "      \"lastUpdatedTime\": \"2021-02-20T07:12:33.396227+00:00\",\n",
    "      \"status\": \"disabled\"\n",
    "    },\n",
    "    \"trustPolicy\": {\n",
    "      \"status\": \"disabled\",\n",
    "      \"type\": \"Notary\"\n",
    "    }\n",
    "  },\n",
    "  \"privateEndpointConnections\": [],\n",
    "  \"provisioningState\": \"Succeeded\",\n",
    "  \"publicNetworkAccess\": \"Enabled\",\n",
    "  \"resourceGroup\": \"telco-classi\",\n",
    "  \"sku\": {\n",
    "    \"name\": \"Basic\",\n",
    "    \"tier\": \"Basic\"\n",
    "  },\n",
    "  \"status\": null,\n",
    "  \"storageAccount\": null,\n",
    "  \"systemData\": {\n",
    "    \"createdAt\": \"2021-02-20T07:12:31.268475+00:00\",\n",
    "    \"createdBy\": \"nightsteed@hotmail.com\",\n",
    "    \"createdByType\": \"User\",\n",
    "    \"lastModifiedAt\": \"2021-02-20T07:12:31.268475+00:00\",\n",
    "    \"lastModifiedBy\": \"nightsteed@hotmail.com\",\n",
    "    \"lastModifiedByType\": \"User\"\n",
    "  },\n",
    "  \"tags\": {},\n",
    "  \"type\": \"Microsoft.ContainerRegistry/registries\",\n",
    "  \"zoneRedundancy\": \"Disabled\"\n",
    "}"
   ]
  },
  {
   "cell_type": "markdown",
   "metadata": {},
   "source": [
    "$ az acr login --name telcobentoclassifier\n",
    "\n",
    "#output\n",
    "Login Succeeded"
   ]
  },
  {
   "cell_type": "markdown",
   "metadata": {},
   "source": [
    "$ az acr show --name telcobentoclassifier --query loginServer --output table\n",
    "\n",
    "#output\n",
    "Result\n",
    "-------------------------------\n",
    "telcobentoclassifier.azurecr.io"
   ]
  },
  {
   "cell_type": "markdown",
   "metadata": {},
   "source": [
    "$ saved_path=$(bentoml get TelcoChurnClassifier:latest --print-location --quiet)\n",
    "\n",
    "$ docker build -t telcobentoclassifier.azurecr.io/telco_churn_class $saved_path\n",
    "\n",
    "#output\n",
    "[+] Building 476.9s (12/14)\n",
    " => => sha256:fc7a7a5ce7cd6a2b16477983c67a830e7ff1d4ad9188fda4a955422d48e9efe0 75.34MB / 75.34MB                                                   139.7s\n",
    " => => extracting sha256:68ced04f60ab5c7a5f1d0b0b4e7572c5a4c8cce44866513d30d9df1a15277d6b                                                            1.3s\n",
    "[+] Building 477.0s (12/14)\n",
    " => => sha256:fc7a7a5ce7cd6a2b16477983c67a830e7ff1d4ad9188fda4a955422d48e9efe0 75.34MB / 75.34MB                                                   139.7s\n",
    " => => extracting sha256:68ced04f60ab5c7a5f1d0b0b4e7572c5a4c8cce44866513d30d9df1a15277d6b                                                            1.3s\n",
    " => => sha256:15cb6d6426181fb283e4b9512ba1aa5d5a32e76a9c8c887c94367593e6d3cb81 46.26MB / 46.26MB                                                   193.9s\n",
    " => => sha256:e72ae797889829323ba5bcd2ca83495816ea9b879e7d4fc976f9adb6ba801011 136.62MB / 136.62MB                                                 297.7s\n",
    " => => sha256:dba7275d2f4a6e9a0dfe0be2fadeb6cd18a4b70bbc354356d54acc9de608b6ea 44.62MB / 44.62MB                                                   270.3s\n",
    "[+] Building 477.6s (12/14)\n",
    " => => sha256:fc7a7a5ce7cd6a2b16477983c67a830e7ff1d4ad9188fda4a955422d48e9efe0 75.34MB / 75.34MB                                                   139.7s\n",
    " => => extracting sha256:68ced04f60ab5c7a5f1d0b0b4e7572c5a4c8cce44866513d30d9df1a15277d6b                                                            1.3s\n",
    " => => sha256:15cb6d6426181fb283e4b9512ba1aa5d5a32e76a9c8c887c94367593e6d3cb81 46.26MB / 46.26MB                                                   193.9s\n",
    " => => sha256:e72ae797889829323ba5bcd2ca83495816ea9b879e7d4fc976f9adb6ba801011 136.62MB / 136.62MB                                                 297.7s\n",
    " => => sha256:dba7275d2f4a6e9a0dfe0be2fadeb6cd18a4b70bbc354356d54acc9de608b6ea 44.62MB / 44.62MB                                                   270.3s\n",
    "[+] Building 477.8s (14/14)\n",
    " => => sha256:9c388eb6d33c40662539172f0d9a357287bd1cd171692ca5c08db2886bc527c3 80.22MB / 80.22MB                                                   180.1s\n",
    " => => sha256:32d11a4c418ae2124dc597daee535cfd258447ae74b3305b19c6d071681b6da9 2.01kB / 2.01kB                                                       0.0s\n",
    "[+] Building 482.1s (15/15) FINISHED\n",
    " => [internal] load build definition from Dockerfile                                                                                                 0.1s\n",
    " => => transferring dockerfile: 1.28kB                                                                                                               0.0s\n",
    " => [internal] load .dockerignore                                                                                                                    0.1s\n",
    " => => transferring context: 2B                                                                                                                      0.0s\n",
    " => [internal] load metadata for docker.io/bentoml/model-server:0.11.0-py38                                                                          4.5s\n",
    " => [auth] bentoml/model-server:pull token for registry-1.docker.io                                                                                  0.0s\n",
    " => [1/9] FROM docker.io/bentoml/model-server:0.11.0-py38@sha256:32d11a4c418ae2124dc597daee535cfd258447ae74b3305b19c6d071681b6da9                  304.5s\n",
    " => => resolve docker.io/bentoml/model-server:0.11.0-py38@sha256:32d11a4c418ae2124dc597daee535cfd258447ae74b3305b19c6d071681b6da9                    0.0s\n",
    " => => sha256:9c388eb6d33c40662539172f0d9a357287bd1cd171692ca5c08db2886bc527c3 80.22MB / 80.22MB                                                   180.1s\n",
    " => => sha256:32d11a4c418ae2124dc597daee535cfd258447ae74b3305b19c6d071681b6da9 2.01kB / 2.01kB                                                       0.0s\n",
    " => => sha256:68ced04f60ab5c7a5f1d0b0b4e7572c5a4c8cce44866513d30d9df1a15277d6b 27.09MB / 27.09MB                                                    79.3s\n",
    " => => sha256:3878306313754b53a34614fa148f62554859f77ec0d828dd9c0e7245f31980ea 5.13kB / 5.13kB                                                       0.0s\n",
    " => => sha256:96cf53b3a9dd496f4c91ab86eeadca2c8a31210c2e5c2a82badbb0dcf8c8f76b 50.36MB / 50.36MB                                                   117.6s\n",
    " => => sha256:fc7a7a5ce7cd6a2b16477983c67a830e7ff1d4ad9188fda4a955422d48e9efe0 75.34MB / 75.34MB                                                   139.7s\n",
    " => => extracting sha256:68ced04f60ab5c7a5f1d0b0b4e7572c5a4c8cce44866513d30d9df1a15277d6b                                                            1.3s\n",
    " => => sha256:15cb6d6426181fb283e4b9512ba1aa5d5a32e76a9c8c887c94367593e6d3cb81 46.26MB / 46.26MB                                                   193.9s\n",
    " => => sha256:e72ae797889829323ba5bcd2ca83495816ea9b879e7d4fc976f9adb6ba801011 136.62MB / 136.62MB                                                 297.7s\n",
    " => => sha256:dba7275d2f4a6e9a0dfe0be2fadeb6cd18a4b70bbc354356d54acc9de608b6ea 44.62MB / 44.62MB                                                   270.3s\n",
    " => => extracting sha256:9c388eb6d33c40662539172f0d9a357287bd1cd171692ca5c08db2886bc527c3                                                            3.2s\n",
    " => => extracting sha256:96cf53b3a9dd496f4c91ab86eeadca2c8a31210c2e5c2a82badbb0dcf8c8f76b                                                            2.6s\n",
    " => => extracting sha256:fc7a7a5ce7cd6a2b16477983c67a830e7ff1d4ad9188fda4a955422d48e9efe0                                                            2.6s\n",
    " => => extracting sha256:15cb6d6426181fb283e4b9512ba1aa5d5a32e76a9c8c887c94367593e6d3cb81                                                            2.2s\n",
    " => => sha256:66cdeb8a960567e487bbd21ba4b9bb0c50b652383e99b640c36a027d3b58bb94 631B / 631B                                                         196.3s\n",
    " => => extracting sha256:e72ae797889829323ba5bcd2ca83495816ea9b879e7d4fc976f9adb6ba801011                                                            2.9s\n",
    " => => extracting sha256:dba7275d2f4a6e9a0dfe0be2fadeb6cd18a4b70bbc354356d54acc9de608b6ea                                                            2.3s\n",
    " => => extracting sha256:66cdeb8a960567e487bbd21ba4b9bb0c50b652383e99b640c36a027d3b58bb94                                                            0.0s\n",
    " => [internal] load build context                                                                                                                    0.1s\n",
    " => => transferring context: 224.43kB                                                                                                                0.0s\n",
    " => [2/9] COPY environment.yml requirements.txt setup.sh* bentoml-init.sh python_version* /bento/                                                    0.4s\n",
    " => [3/9] WORKDIR /bento                                                                                                                             0.1s\n",
    " => [4/9] COPY docker-entrypoint.sh /usr/local/bin/                                                                                                  0.1s\n",
    " => [5/9] COPY environment.yml bundled_pip_dependencies*  /bento/bundled_pip_dependencies/                                                           0.1s\n",
    " => [6/9] RUN rm /bento/bundled_pip_dependencies/environment.yml                                                                                     0.3s\n",
    " => [7/9] RUN chmod +x /bento/bentoml-init.sh /usr/local/bin/docker-entrypoint.sh                                                                    0.5s\n",
    " => [8/9] RUN if [ -f /bento/bentoml-init.sh ]; then bash -c /bento/bentoml-init.sh; fi                                                            167.0s\n",
    " => [9/9] COPY . /bento                                                                                                                              0.1s\n",
    " => exporting to image                                                                                                                               4.3s\n",
    " => => exporting layers                                                                                                                              4.2s\n",
    " => => writing image sha256:d33df16e8c7b6b220b90441560a8bc005fd1004dd1312326fd8589ceea0c081b                                                         0.0s\n",
    " => => naming to telcobentoclassifier.azurecr.io/telco_churn_class"
   ]
  },
  {
   "cell_type": "markdown",
   "metadata": {},
   "source": [
    "$ docker push telcobentoclassifier.azurecr.io/telco_churn_class\n",
    "\n",
    "#output\n",
    "Using default tag: latest\n",
    "The push refers to repository [telcobentoclassifier.azurecr.io/telco_churn_class]\n",
    "...\n",
    "latest: digest: sha256:34a2c05c614c8fab4fdf6338c879d1c0ae49b0f365c9bc5c9b03f7660c213f2d size: 3674"
   ]
  },
  {
   "cell_type": "markdown",
   "metadata": {},
   "source": [
    "$ az acr repository list --name telcobentoclassifier --output table\n",
    "\n",
    "#output\n",
    "Result\n",
    "-----------------\n",
    "telco_churn_class"
   ]
  },
  {
   "cell_type": "markdown",
   "metadata": {},
   "source": [
    "$ az acr credential show -n telcobentoclassifier\n",
    "\n",
    "#output\n",
    "{\n",
    "  \"passwords\": [\n",
    "    {\n",
    "      \"name\": \"password\",\n",
    "      \"value\": \"<removed>\"\n",
    "    },\n",
    "    {\n",
    "      \"name\": \"password2\",\n",
    "      \"value\": \"<removed>\"\n",
    "    }\n",
    "  ],\n",
    "  \"username\": \"telcobentoclassifier\"\n",
    "}"
   ]
  },
  {
   "cell_type": "markdown",
   "metadata": {},
   "source": [
    "$ az container create --resource-group telco-classi \\\n",
    "    --name telcobentoclassifier \\\n",
    "    --image telcobentoclassifier.azurecr.io/telco_churn_class \\\n",
    "    --cpu 1 \\\n",
    "    --memory 1 \\\n",
    "    --registry-login-server telcobentoclassifier.azurecr.io \\\n",
    "    --registry-username telcobentoclassifier \\\n",
    "    --registry-password <removed> \\\n",
    "    --dns-name-label telcobentoclassifier55 \\\n",
    "    --ports 5000\n",
    "\n",
    "#output\n",
    "{\n",
    "  \"containers\": [\n",
    "    {\n",
    "      \"command\": null,\n",
    "      \"environmentVariables\": [],\n",
    "      \"image\": \"telcobentoclassifier.azurecr.io/telco_churn_class\",\n",
    "      \"instanceView\": {\n",
    "        \"currentState\": {\n",
    "          \"detailStatus\": \"\",\n",
    "          \"exitCode\": null,\n",
    "          \"finishTime\": null,\n",
    "          \"startTime\": \"2021-02-20T07:47:43+00:00\",\n",
    "          \"state\": \"Running\"\n",
    "        },\n",
    "        \"events\": [\n",
    "          {\n",
    "            \"count\": 2,\n",
    "            \"firstTimestamp\": \"2021-02-20T07:45:46+00:00\",\n",
    "            \"lastTimestamp\": \"2021-02-20T07:47:42+00:00\",\n",
    "            \"message\": \"pulling image \\\"telcobentoclassifier.azurecr.io/telco_churn_class\\\"\",\n",
    "            \"name\": \"Pulling\",\n",
    "            \"type\": \"Normal\"\n",
    "          },\n",
    "          {\n",
    "            \"count\": 2,\n",
    "            \"firstTimestamp\": \"2021-02-20T07:47:33+00:00\",\n",
    "            \"lastTimestamp\": \"2021-02-20T07:47:43+00:00\",\n",
    "            \"message\": \"Successfully pulled image \\\"telcobentoclassifier.azurecr.io/telco_churn_class\\\"\",\n",
    "            \"name\": \"Pulled\",\n",
    "            \"type\": \"Normal\"\n",
    "          },\n",
    "          {\n",
    "            \"count\": 2,\n",
    "            \"firstTimestamp\": \"2021-02-20T07:47:35+00:00\",\n",
    "            \"lastTimestamp\": \"2021-02-20T07:47:43+00:00\",\n",
    "            \"message\": \"Created container\",\n",
    "            \"name\": \"Created\",\n",
    "            \"type\": \"Normal\"\n",
    "          },\n",
    "          {\n",
    "            \"count\": 2,\n",
    "            \"firstTimestamp\": \"2021-02-20T07:47:36+00:00\",\n",
    "            \"lastTimestamp\": \"2021-02-20T07:47:43+00:00\",\n",
    "            \"message\": \"Started container\",\n",
    "            \"name\": \"Started\",\n",
    "            \"type\": \"Normal\"\n",
    "          }\n",
    "        ],\n",
    "        \"previousState\": {\n",
    "          \"detailStatus\": \"Error\",\n",
    "          \"exitCode\": 3,\n",
    "          \"finishTime\": \"2021-02-20T07:47:41+00:00\",\n",
    "          \"startTime\": \"2021-02-20T07:47:35+00:00\",\n",
    "          \"state\": \"Terminated\"\n",
    "        },\n",
    "        \"restartCount\": 1\n",
    "      },\n",
    "      \"livenessProbe\": null,\n",
    "      \"name\": \"telcobentoclassifier\",\n",
    "      \"ports\": [\n",
    "        {\n",
    "          \"port\": 5000,\n",
    "          \"protocol\": \"TCP\"\n",
    "        }\n",
    "      ],\n",
    "      \"readinessProbe\": null,\n",
    "      \"resources\": {\n",
    "        \"limits\": null,\n",
    "        \"requests\": {\n",
    "          \"cpu\": 1.0,\n",
    "          \"gpu\": null,\n",
    "          \"memoryInGb\": 1.0\n",
    "        }\n",
    "      },\n",
    "      \"volumeMounts\": null\n",
    "    }\n",
    "  ],\n",
    "  \"diagnostics\": null,\n",
    "  \"dnsConfig\": null,\n",
    "  \"id\": \"/subscriptions/e4737090-78c3-4a83-b843-f2c83847cf52/resourceGroups/telco-classi/providers/Microsoft.ContainerInstance/containerGroups/telcobentoclassifier\",\n",
    "  \"identity\": null,\n",
    "  \"imageRegistryCredentials\": [\n",
    "    {\n",
    "      \"password\": null,\n",
    "      \"server\": \"telcobentoclassifier.azurecr.io\",\n",
    "      \"username\": \"telcobentoclassifier\"\n",
    "    }\n",
    "  ],\n",
    "  \"instanceView\": {\n",
    "    \"events\": [],\n",
    "    \"state\": \"Running\"\n",
    "  },\n",
    "  \"ipAddress\": {\n",
    "    \"dnsNameLabel\": \"telcobentoclassifier55\",\n",
    "    \"fqdn\": \"telcobentoclassifier55.southeastasia.azurecontainer.io\",\n",
    "    \"ip\": \"20.197.114.252\",\n",
    "    \"ports\": [\n",
    "      {\n",
    "        \"port\": 5000,\n",
    "        \"protocol\": \"TCP\"\n",
    "      }\n",
    "    ],\n",
    "    \"type\": \"Public\"\n",
    "  },\n",
    "  \"location\": \"southeastasia\",\n",
    "  \"name\": \"telcobentoclassifier\",\n",
    "  \"networkProfile\": null,\n",
    "  \"osType\": \"Linux\",\n",
    "  \"provisioningState\": \"Succeeded\",\n",
    "  \"resourceGroup\": \"telco-classi\",\n",
    "  \"restartPolicy\": \"Always\",\n",
    "  \"tags\": {},\n",
    "  \"type\": \"Microsoft.ContainerInstance/containerGroups\",\n",
    "  \"volumes\": null\n",
    "}"
   ]
  },
  {
   "cell_type": "markdown",
   "metadata": {},
   "source": [
    "$ az container show --resource-group telco-classi --name telcobentoclassifier --query instanceView.state\n",
    "\n",
    "#output\n",
    "\"Running\""
   ]
  },
  {
   "cell_type": "markdown",
   "metadata": {},
   "source": [
    "$ curl -X \\\n",
    "    POST \"telcobentoclassifier55.southeastasia.azurecontainer.io:5000/predict\" \\\n",
    "    --header \"Content-Type: application/json\" \\\n",
    "    -d '[[1,0,1,0,1,0,0,1,1,0,1,0,0,0,1,0,1,1,0,1,0,1,0,1,0,1,0,0,0,1,0,0,0,1,1,6,1]]'"
   ]
  }
 ],
 "metadata": {
  "colab": {
   "authorship_tag": "ABX9TyMeXaas/68zuWyB3rT88l83",
   "collapsed_sections": [],
   "include_colab_link": true,
   "name": "Test01.ipynb",
   "provenance": []
  },
  "kernelspec": {
   "display_name": "Python 3",
   "language": "python",
   "name": "python3"
  },
  "language_info": {
   "codemirror_mode": {
    "name": "ipython",
    "version": 3
   },
   "file_extension": ".py",
   "mimetype": "text/x-python",
   "name": "python",
   "nbconvert_exporter": "python",
   "pygments_lexer": "ipython3",
   "version": "3.8.5"
  }
 },
 "nbformat": 4,
 "nbformat_minor": 1
}
